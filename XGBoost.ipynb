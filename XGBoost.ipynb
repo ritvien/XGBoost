{
 "cells": [
  {
   "cell_type": "code",
   "execution_count": 2,
   "id": "1a64fdbf",
   "metadata": {},
   "outputs": [],
   "source": [
    "import pandas as pd\n",
    "import numpy as np\n",
    "import matplotlib.pyplot as plt\n",
    "import xgboost as xgb\n",
    "import warnings\n",
    "warnings.filterwarnings('ignore')"
   ]
  },
  {
   "cell_type": "code",
   "execution_count": 3,
   "id": "421ccd2d",
   "metadata": {},
   "outputs": [],
   "source": [
    "import pandas as pd\n",
    "import numpy as np\n",
    "import matplotlib.pyplot as plt\n",
    "import seaborn as sns\n",
    "\n",
    "from sklearn.linear_model import LinearRegression\n",
    "from sklearn.metrics import mean_squared_error\n",
    "from sklearn.metrics import r2_score\n",
    "\n",
    "def evaluate(model,x_train, y_train, x_test, y_test):\n",
    "    model.fit(x_train,y_train)\n",
    "    \n",
    "    y_test_pred = model.predict(x_test)\n",
    "    y_train_pred = model.predict(x_train)\n",
    "    \n",
    "    Rmse = np.sqrt(mean_squared_error(y_test, y_test_pred))\n",
    "    R2_score_train = r2_score(y_train, y_train_pred)\n",
    "    R2_score_test = r2_score(y_test, y_test_pred)\n",
    "    return Rmse, R2_score_train, R2_score_test"
   ]
  },
  {
   "cell_type": "code",
   "execution_count": 4,
   "id": "d446a2af",
   "metadata": {},
   "outputs": [],
   "source": [
    "from sklearn.preprocessing import MinMaxScaler\n",
    "from sklearn.preprocessing import StandardScaler\n",
    "from sklearn.preprocessing import RobustScaler\n",
    "\n",
    "from sklearn.feature_selection import VarianceThreshold\n",
    "from sklearn.feature_selection import SelectKBest, f_classif\n",
    "from sklearn.feature_selection import RFE\n",
    "from sklearn.feature_selection import SequentialFeatureSelector\n",
    "\n",
    "scaler = ['-',MinMaxScaler(), StandardScaler(), RobustScaler()]\n",
    "\n",
    "\n",
    "def rate_model(model):\n",
    "    n = 45\n",
    "    i = 0\n",
    "# RESET TABLE\n",
    "    rate_table = pd.DataFrame({'Model': ['-'],'FeatureSelection':['-'] ,'Scaler': ['-'], 'Number of features': ['-']\n",
    "                            ,'Rmse':['-'], 'R2 Score(train)':['-'], 'R2 Score(test)':['-']})\n",
    "# Original:\n",
    "    Rmse, R2_score_train, R2_score_test = evaluate(model,X_train,y_train,X_test,y_test)\n",
    "    num_feats = X_train.shape[1]\n",
    "    row = pd.DataFrame({'Model':model, 'FeatureSelection': ['-'], 'Scaler': ['-'],\n",
    "                                'Number of features': num_feats,'Rmse':Rmse, 'R2 Score(train)':R2_score_train, \n",
    "                                'R2 Score(test)':R2_score_test})\n",
    "    rate_table = pd.concat([rate_table,row],axis = 0,ignore_index=True)\n",
    "    \n",
    "    sys.stdout.write(\"\\rProgress: [{:<30}] {:.2f}%\".format(\"=\" * (i // 2), (i / n) * 100))\n",
    "    i+=1\n",
    "    sys.stdout.write(\"\\rProgress: [{:<30}] {:.2f}%\\tDone original!\".format(\"=\" * (i // 2), (i / n) * 100))\n",
    "#varianceThreshold:\n",
    "    threshold = [0.05, 0.5,1]\n",
    "    for thres in threshold:\n",
    "        selector = VarianceThreshold(threshold=thres)\n",
    "        x_train = selector.fit_transform(X_train)\n",
    "        x_test = selector.transform(X_test)\n",
    "        num_feats = x_train.shape[1]\n",
    "        for sc in scaler:\n",
    "            if sc != '-':\n",
    "                x_train = sc.fit_transform(x_train)\n",
    "                x_test = sc.transform(x_test)\n",
    "            Rmse, R2_score_train, R2_score_test = evaluate(model,x_train,y_train,x_test,y_test)\n",
    "            row = pd.DataFrame({'Model':model, 'FeatureSelection': ['VarianceThreshold'], 'Scaler': sc,\n",
    "                                'Number of features': num_feats,'Rmse':Rmse, 'R2 Score(train)':R2_score_train, \n",
    "                                'R2 Score(test)':R2_score_test})\n",
    "            rate_table = pd.concat([rate_table,row],axis = 0,ignore_index=True)\n",
    "            sys.stdout.write(\"\\rProgress: [{:<30}] {:.2f}%!\".format(\"=\" * (i // 2), (i / n) * 100))\n",
    "            sys.stdout.flush()\n",
    "            i+=1\n",
    "    sys.stdout.write(\"\\rProgress: [{:<30}] {:.2f}%\\tDone varThreshold!\".format(\"=\" * (i // 2), (i / n) * 100))\n",
    "    \n",
    "    \n",
    "#selectKbest\n",
    "    num_bests = [19,16,12,7]\n",
    "    for num in num_bests:\n",
    "        selection = [([\"SelectKBest\"],SelectKBest(score_func = f_classif, k=num)),\n",
    "                     #([\"RFE\"],RFE(model,n_features_to_select=num)),\n",
    "                     ([\"SFS\"],SequentialFeatureSelector(model,n_features_to_select=num,scoring='r2',cv=3))]\n",
    "        for name, selector in selection:\n",
    "            x_train = selector.fit_transform(X_train,y_train)\n",
    "            x_test = selector.transform(X_test)\n",
    "            num_feats = x_train.shape[1]\n",
    "            for sc in scaler:\n",
    "                if sc != '-':\n",
    "                    x_train = sc.fit_transform(x_train)\n",
    "                    x_test = sc.transform(x_test)\n",
    "                Rmse, R2_score_train, R2_score_test = evaluate(model,x_train,y_train,x_test,y_test)\n",
    "                row = pd.DataFrame({'Model':model, 'FeatureSelection': name, 'Scaler': sc,\n",
    "                                    'Number of features': num_feats,'Rmse':Rmse, 'R2 Score(train)':R2_score_train, \n",
    "                                    'R2 Score(test)':R2_score_test})\n",
    "                rate_table = pd.concat([rate_table,row],axis = 0,ignore_index=True)\n",
    "                sys.stdout.write(\"\\rProgress: [{:<30}] {:.2f}%\".format(\"=\" * (i // 2), (i / n) * 100))\n",
    "                sys.stdout.flush()\n",
    "                i+=1\n",
    "        \n",
    "        sys.stdout.write(\"\\rProgress: [{:<30}] {:.2f}%\\tDone num_feat = {}!\".format(\"=\" * (i // 2), (i / n) * 100,num))   \n",
    "        \n",
    "    rate_table = rate_table.iloc[1:].sort_values(by='R2 Score(test)',ascending=False)\n",
    "    display(rate_table)\n",
    "    rate_table.to_csv(f'{model}', index=False)"
   ]
  },
  {
   "cell_type": "code",
   "execution_count": 5,
   "id": "f643898f",
   "metadata": {},
   "outputs": [],
   "source": [
    "df = pd.read_csv(\"kc_house_data.csv\")\n",
    "df['date'] = pd.to_datetime(df['date'])\n",
    "df['year'] = df['date'].dt.year\n",
    "df['month'] = df['date'].dt.month\n",
    "df['day'] = df['date'].dt.day\n",
    "df['age'] = df['year'] - df['yr_built']\n",
    "df = df.drop(labels=[\"date\",\"yr_built\"],axis=1)\n",
    "\n",
    "from sklearn.model_selection import train_test_split\n",
    "\n",
    "x = df.drop(labels='price',axis=1)\n",
    "y = df['price']\n",
    "X_1, X_test, y_1, y_test = train_test_split(x, y, test_size=0.2, random_state=42)\n",
    "X_train, X_val, y_train, y_val = train_test_split(X_1, y_1, test_size=0.2, random_state=42)"
   ]
  },
  {
   "cell_type": "code",
   "execution_count": 6,
   "id": "d3d83dd9",
   "metadata": {},
   "outputs": [],
   "source": [
    "model = xgb.XGBRegressor(objective ='reg:squarederror', \n",
    "                         colsample_bytree = 0.3,\n",
    "                         learning_rate = 0.1,\n",
    "                         max_depth = 5,\n",
    "                         alpha = 10,\n",
    "                         n_estimators = 100)"
   ]
  },
  {
   "cell_type": "code",
   "execution_count": 7,
   "id": "d0cde738",
   "metadata": {},
   "outputs": [
    {
     "data": {
      "text/plain": [
       "0.8803274991898061"
      ]
     },
     "execution_count": 7,
     "metadata": {},
     "output_type": "execute_result"
    }
   ],
   "source": [
    "model.fit(X_train,y_train)\n",
    "y_val_pred = model.predict(X_val)\n",
    "r2_score(y_val, y_val_pred)\n"
   ]
  },
  {
   "cell_type": "code",
   "execution_count": 8,
   "id": "b852f542",
   "metadata": {},
   "outputs": [
    {
     "data": {
      "text/plain": [
       "0.8682431692831941"
      ]
     },
     "execution_count": 8,
     "metadata": {},
     "output_type": "execute_result"
    }
   ],
   "source": [
    "model.fit(X_train,y_train)\n",
    "y_test_pred = model.predict(X_test)\n",
    "r2_score(y_test, y_test_pred)"
   ]
  },
  {
   "cell_type": "code",
   "execution_count": 9,
   "id": "58c36307",
   "metadata": {},
   "outputs": [
    {
     "data": {
      "text/plain": [
       "0.9384088679183179"
      ]
     },
     "execution_count": 9,
     "metadata": {},
     "output_type": "execute_result"
    }
   ],
   "source": [
    "y_train_pred = model.predict(X_train)\n",
    "r2_score(y_train, y_train_pred)"
   ]
  },
  {
   "cell_type": "markdown",
   "id": "4c2f6ac1",
   "metadata": {},
   "source": [
    "# Regularzation"
   ]
  },
  {
   "cell_type": "markdown",
   "id": "1fbb6b8b",
   "metadata": {},
   "source": [
    ": là kỹ thuật dùng để kiểm soát overfitting và tối ưu hóa hiệu suất của mô hình, ngăn chặn việc học thuộc của mô hình mà không tạo ra quy luật tổng quát"
   ]
  },
  {
   "cell_type": "markdown",
   "id": "f936acea",
   "metadata": {},
   "source": [
    "## Lasso Regression"
   ]
  },
  {
   "cell_type": "markdown",
   "id": "762b9053",
   "metadata": {},
   "source": [
    "Least Absolute Shrinkage and Selection Operator: Thêm 1 thành phần giá trị tuyệt đối."
   ]
  },
  {
   "cell_type": "markdown",
   "id": "7a187008",
   "metadata": {},
   "source": [
    "**HÀM MẤT MÁT**:\n",
    "\n",
    "<font size = 5> $L = \\frac{1}{n}\\sum_{i=1}^n (y_i-\\hat{y_i} ) ^2 + \\lambda \\sum_{i=1}^m |w_i| $"
   ]
  },
  {
   "cell_type": "markdown",
   "id": "e93c9135",
   "metadata": {},
   "source": [
    "* m - Number of features\n",
    "* n - number of Examples\n",
    "* $y_i$ - Acutal Target Value\n",
    "* $\\hat{y_i}$  - Predicted Target Value"
   ]
  },
  {
   "cell_type": "markdown",
   "id": "7e7a9b35",
   "metadata": {},
   "source": [
    "## Ridge Regression"
   ]
  },
  {
   "cell_type": "markdown",
   "id": "8f7bbfda",
   "metadata": {},
   "source": [
    "Thêm 1 thành phần bình phương."
   ]
  },
  {
   "cell_type": "markdown",
   "id": "a3c0eafc",
   "metadata": {},
   "source": [
    "**HÀM MẤT MÁT:**"
   ]
  },
  {
   "cell_type": "markdown",
   "id": "7e723e47",
   "metadata": {},
   "source": [
    "<font size = 5> $ L = \\frac{1}{n} \\sum_{i=1}^n(y_i - \\hat{y_i})^2 + \\lambda \\sum_{i=1}^m w_i^2 $"
   ]
  },
  {
   "cell_type": "markdown",
   "id": "a39c4676",
   "metadata": {},
   "source": [
    "Ý nghĩa: Kiểm soát Overfitting, Lựa chọn đặc trưng. Giảm độ lớn của hệ số, tăng hiệu suất cho dl nh, giảm nhiều. Ứng dụng no môi hinh tuyến tính."
   ]
  },
  {
   "cell_type": "markdown",
   "id": "a169e421",
   "metadata": {},
   "source": [
    "# XGBoost"
   ]
  },
  {
   "cell_type": "markdown",
   "id": "589d6628",
   "metadata": {},
   "source": [
    "là Extreme Gradient Boost bằng cách sử dụng:\n",
    "* Regularization\n",
    "* Cross-validation"
   ]
  },
  {
   "cell_type": "markdown",
   "id": "add84b5d",
   "metadata": {},
   "source": [
    "## How it works:"
   ]
  },
  {
   "cell_type": "code",
   "execution_count": 400,
   "id": "0d72587c",
   "metadata": {},
   "outputs": [],
   "source": [
    "np.random.seed(42)\n",
    "X = np.random.rand(20, 1) * 10  \n",
    "y =  X.squeeze()**2 + np.random.randint(low=-10,high=10,size=20)"
   ]
  },
  {
   "cell_type": "code",
   "execution_count": 401,
   "id": "aac712e3",
   "metadata": {
    "scrolled": true
   },
   "outputs": [],
   "source": [
    "df = pd.DataFrame({'X':X.reshape(-1),'y': y})\n",
    "df = df.sort_values(by='X').reset_index(drop=True)\n"
   ]
  },
  {
   "cell_type": "code",
   "execution_count": 402,
   "id": "0e67125c",
   "metadata": {
    "scrolled": true
   },
   "outputs": [
    {
     "data": {
      "text/plain": [
       "<matplotlib.collections.PathCollection at 0x231be1e2650>"
      ]
     },
     "execution_count": 402,
     "metadata": {},
     "output_type": "execute_result"
    },
    {
     "data": {
      "image/png": "[encoded data removed]",
      "text/plain": [
       "<Figure size 640x480 with 1 Axes>"
      ]
     },
     "metadata": {},
     "output_type": "display_data"
    }
   ],
   "source": [
    "plt.scatter(X,y)"
   ]
  },
  {
   "cell_type": "markdown",
   "id": "5eda9a67",
   "metadata": {},
   "source": [
    "**Default** predict line is 0.5:"
   ]
  },
  {
   "cell_type": "code",
   "execution_count": 403,
   "id": "06b576c2",
   "metadata": {},
   "outputs": [
    {
     "data": {
      "text/plain": [
       "[<matplotlib.lines.Line2D at 0x231be03ca10>]"
      ]
     },
     "execution_count": 403,
     "metadata": {},
     "output_type": "execute_result"
    },
    {
     "data": {
      "image/png": "[encoded data removed]",
      "text/plain": [
       "<Figure size 640x480 with 1 Axes>"
      ]
     },
     "metadata": {},
     "output_type": "display_data"
    }
   ],
   "source": [
    "plt.scatter(X,y)\n",
    "plt.plot([0,10],[0.5,0.5],c='r')"
   ]
  },
  {
   "cell_type": "markdown",
   "id": "dfaed9c7",
   "metadata": {},
   "source": [
    "**Count residuals**"
   ]
  },
  {
   "cell_type": "code",
   "execution_count": 404,
   "id": "2141f95f",
   "metadata": {},
   "outputs": [],
   "source": [
    "r = y - 0.5"
   ]
  },
  {
   "cell_type": "markdown",
   "id": "19c0106c",
   "metadata": {},
   "source": [
    "**Count similarity Score** with lambda = 0\n"
   ]
  },
  {
   "cell_type": "markdown",
   "id": "cc164005",
   "metadata": {},
   "source": [
    "<font size = 5> Similarity Score = $\\frac{Sum_{of} r,squared}{Number_{of} r + \\lambda}$"
   ]
  },
  {
   "cell_type": "code",
   "execution_count": 405,
   "id": "edbc7a14",
   "metadata": {},
   "outputs": [
    {
     "data": {
      "text/plain": [
       "18657.378811693077"
      ]
     },
     "execution_count": 405,
     "metadata": {},
     "output_type": "execute_result"
    }
   ],
   "source": [
    "Simi = (np.sum(r)**2)/len(r)\n",
    "Simi"
   ]
  },
  {
   "cell_type": "code",
   "execution_count": 396,
   "id": "0f45b001",
   "metadata": {
    "collapsed": true
   },
   "outputs": [
    {
     "data": {
      "text/html": [
       "<div>\n",
       "<style scoped>\n",
       "    .dataframe tbody tr th:only-of-type {\n",
       "        vertical-align: middle;\n",
       "    }\n",
       "\n",
       "    .dataframe tbody tr th {\n",
       "        vertical-align: top;\n",
       "    }\n",
       "\n",
       "    .dataframe thead th {\n",
       "        text-align: right;\n",
       "    }\n",
       "</style>\n",
       "<table border=\"1\" class=\"dataframe\">\n",
       "  <thead>\n",
       "    <tr style=\"text-align: right;\">\n",
       "      <th></th>\n",
       "      <th>X</th>\n",
       "      <th>y</th>\n",
       "      <th>r</th>\n",
       "      <th>pred_custom</th>\n",
       "      <th>pred_lib</th>\n",
       "    </tr>\n",
       "  </thead>\n",
       "  <tbody>\n",
       "    <tr>\n",
       "      <th>0</th>\n",
       "      <td>0.205845</td>\n",
       "      <td>-3.957628</td>\n",
       "      <td>-4.457628</td>\n",
       "      <td>2.800437</td>\n",
       "      <td>1.310733</td>\n",
       "    </tr>\n",
       "    <tr>\n",
       "      <th>1</th>\n",
       "      <td>0.580836</td>\n",
       "      <td>9.337371</td>\n",
       "      <td>8.837371</td>\n",
       "      <td>2.800437</td>\n",
       "      <td>1.310733</td>\n",
       "    </tr>\n",
       "    <tr>\n",
       "      <th>2</th>\n",
       "      <td>1.559945</td>\n",
       "      <td>3.433429</td>\n",
       "      <td>2.933429</td>\n",
       "      <td>2.800437</td>\n",
       "      <td>1.310733</td>\n",
       "    </tr>\n",
       "    <tr>\n",
       "      <th>3</th>\n",
       "      <td>1.560186</td>\n",
       "      <td>10.434182</td>\n",
       "      <td>9.934182</td>\n",
       "      <td>2.800437</td>\n",
       "      <td>1.310733</td>\n",
       "    </tr>\n",
       "    <tr>\n",
       "      <th>4</th>\n",
       "      <td>1.818250</td>\n",
       "      <td>-3.693968</td>\n",
       "      <td>-4.193968</td>\n",
       "      <td>2.800437</td>\n",
       "      <td>1.310733</td>\n",
       "    </tr>\n",
       "    <tr>\n",
       "      <th>5</th>\n",
       "      <td>1.834045</td>\n",
       "      <td>6.363721</td>\n",
       "      <td>5.863721</td>\n",
       "      <td>2.800437</td>\n",
       "      <td>1.310733</td>\n",
       "    </tr>\n",
       "    <tr>\n",
       "      <th>6</th>\n",
       "      <td>2.123391</td>\n",
       "      <td>11.508790</td>\n",
       "      <td>11.008790</td>\n",
       "      <td>2.800437</td>\n",
       "      <td>4.377251</td>\n",
       "    </tr>\n",
       "    <tr>\n",
       "      <th>7</th>\n",
       "      <td>2.912291</td>\n",
       "      <td>17.481441</td>\n",
       "      <td>16.981441</td>\n",
       "      <td>2.800437</td>\n",
       "      <td>4.377251</td>\n",
       "    </tr>\n",
       "    <tr>\n",
       "      <th>8</th>\n",
       "      <td>3.042422</td>\n",
       "      <td>16.256334</td>\n",
       "      <td>15.756334</td>\n",
       "      <td>2.800437</td>\n",
       "      <td>4.377251</td>\n",
       "    </tr>\n",
       "    <tr>\n",
       "      <th>9</th>\n",
       "      <td>3.745401</td>\n",
       "      <td>13.028030</td>\n",
       "      <td>12.528030</td>\n",
       "      <td>2.800437</td>\n",
       "      <td>4.377251</td>\n",
       "    </tr>\n",
       "    <tr>\n",
       "      <th>10</th>\n",
       "      <td>4.319450</td>\n",
       "      <td>9.657650</td>\n",
       "      <td>9.157650</td>\n",
       "      <td>2.800437</td>\n",
       "      <td>4.377251</td>\n",
       "    </tr>\n",
       "    <tr>\n",
       "      <th>11</th>\n",
       "      <td>5.247564</td>\n",
       "      <td>25.536931</td>\n",
       "      <td>25.036931</td>\n",
       "      <td>9.901006</td>\n",
       "      <td>4.377251</td>\n",
       "    </tr>\n",
       "    <tr>\n",
       "      <th>12</th>\n",
       "      <td>5.986585</td>\n",
       "      <td>39.839198</td>\n",
       "      <td>39.339198</td>\n",
       "      <td>9.901006</td>\n",
       "      <td>7.397313</td>\n",
       "    </tr>\n",
       "    <tr>\n",
       "      <th>13</th>\n",
       "      <td>6.011150</td>\n",
       "      <td>30.133926</td>\n",
       "      <td>29.633926</td>\n",
       "      <td>9.901006</td>\n",
       "      <td>7.397313</td>\n",
       "    </tr>\n",
       "    <tr>\n",
       "      <th>14</th>\n",
       "      <td>7.080726</td>\n",
       "      <td>58.136678</td>\n",
       "      <td>57.636678</td>\n",
       "      <td>18.953028</td>\n",
       "      <td>19.035658</td>\n",
       "    </tr>\n",
       "    <tr>\n",
       "      <th>15</th>\n",
       "      <td>7.319939</td>\n",
       "      <td>57.581513</td>\n",
       "      <td>57.081513</td>\n",
       "      <td>18.953028</td>\n",
       "      <td>19.035658</td>\n",
       "    </tr>\n",
       "    <tr>\n",
       "      <th>16</th>\n",
       "      <td>8.324426</td>\n",
       "      <td>65.296075</td>\n",
       "      <td>64.796075</td>\n",
       "      <td>18.953028</td>\n",
       "      <td>19.035658</td>\n",
       "    </tr>\n",
       "    <tr>\n",
       "      <th>17</th>\n",
       "      <td>8.661761</td>\n",
       "      <td>67.026112</td>\n",
       "      <td>66.526112</td>\n",
       "      <td>18.953028</td>\n",
       "      <td>19.035658</td>\n",
       "    </tr>\n",
       "    <tr>\n",
       "      <th>18</th>\n",
       "      <td>9.507143</td>\n",
       "      <td>95.385769</td>\n",
       "      <td>94.885769</td>\n",
       "      <td>28.468742</td>\n",
       "      <td>19.035658</td>\n",
       "    </tr>\n",
       "    <tr>\n",
       "      <th>19</th>\n",
       "      <td>9.699099</td>\n",
       "      <td>92.072512</td>\n",
       "      <td>91.572512</td>\n",
       "      <td>28.468742</td>\n",
       "      <td>19.035658</td>\n",
       "    </tr>\n",
       "  </tbody>\n",
       "</table>\n",
       "</div>"
      ],
      "text/plain": [
       "           X          y          r  pred_custom   pred_lib\n",
       "0   0.205845  -3.957628  -4.457628     2.800437   1.310733\n",
       "1   0.580836   9.337371   8.837371     2.800437   1.310733\n",
       "2   1.559945   3.433429   2.933429     2.800437   1.310733\n",
       "3   1.560186  10.434182   9.934182     2.800437   1.310733\n",
       "4   1.818250  -3.693968  -4.193968     2.800437   1.310733\n",
       "5   1.834045   6.363721   5.863721     2.800437   1.310733\n",
       "6   2.123391  11.508790  11.008790     2.800437   4.377251\n",
       "7   2.912291  17.481441  16.981441     2.800437   4.377251\n",
       "8   3.042422  16.256334  15.756334     2.800437   4.377251\n",
       "9   3.745401  13.028030  12.528030     2.800437   4.377251\n",
       "10  4.319450   9.657650   9.157650     2.800437   4.377251\n",
       "11  5.247564  25.536931  25.036931     9.901006   4.377251\n",
       "12  5.986585  39.839198  39.339198     9.901006   7.397313\n",
       "13  6.011150  30.133926  29.633926     9.901006   7.397313\n",
       "14  7.080726  58.136678  57.636678    18.953028  19.035658\n",
       "15  7.319939  57.581513  57.081513    18.953028  19.035658\n",
       "16  8.324426  65.296075  64.796075    18.953028  19.035658\n",
       "17  8.661761  67.026112  66.526112    18.953028  19.035658\n",
       "18  9.507143  95.385769  94.885769    28.468742  19.035658\n",
       "19  9.699099  92.072512  91.572512    28.468742  19.035658"
      ]
     },
     "execution_count": 396,
     "metadata": {},
     "output_type": "execute_result"
    }
   ],
   "source": [
    "df"
   ]
  },
  {
   "cell_type": "code",
   "execution_count": 406,
   "id": "88d601b9",
   "metadata": {},
   "outputs": [
    {
     "data": {
      "text/plain": [
       "18657.378811693077"
      ]
     },
     "execution_count": 406,
     "metadata": {},
     "output_type": "execute_result"
    }
   ],
   "source": [
    "y = df.y\n",
    "np.sum(y-0.5)**2/20"
   ]
  },
  {
   "cell_type": "code",
   "execution_count": 408,
   "id": "cfec0279",
   "metadata": {},
   "outputs": [
    {
     "data": {
      "text/plain": [
       "(0   -3.957628\n",
       " Name: y, dtype: float64,\n",
       " 1      9.337371\n",
       " 2      3.433429\n",
       " 3     10.434182\n",
       " 4     -3.693968\n",
       " 5      6.363721\n",
       " 6     11.508790\n",
       " 7     17.481441\n",
       " 8     16.256334\n",
       " 9     13.028030\n",
       " 10     9.657650\n",
       " 11    25.536931\n",
       " 12    39.839198\n",
       " 13    30.133926\n",
       " Name: y, dtype: float64)"
      ]
     },
     "execution_count": 408,
     "metadata": {},
     "output_type": "execute_result"
    }
   ],
   "source": [
    "Y_left,Y_right"
   ]
  },
  {
   "cell_type": "code",
   "execution_count": 407,
   "id": "9a1a4a85",
   "metadata": {},
   "outputs": [
    {
     "data": {
      "text/plain": [
       "(15.662818273962921, 2756.9953595867873)"
      ]
     },
     "execution_count": 407,
     "metadata": {},
     "output_type": "execute_result"
    }
   ],
   "source": [
    "y = df.iloc[0:14,1]\n",
    "split = 0\n",
    "Y_left = y[:split+1]\n",
    "Y_right = y[split+1:] \n",
    "Simi_left = ((np.sum(Y_left))**2)/len(Y_left)\n",
    "Simi_right = ((np.sum(Y_right))**2)/len(Y_right)\n",
    "Simi_left,Simi_right"
   ]
  },
  {
   "cell_type": "code",
   "execution_count": 393,
   "id": "7c9eaf25",
   "metadata": {},
   "outputs": [],
   "source": [
    "def count_Simi(split,y):\n",
    "    Y_left = y[:split]\n",
    "    Y_right = y[split:] \n",
    "    Simi_left = ((np.sum(Y_left))**2)/len(Y_left)\n",
    "    Simi_right = ((np.sum(Y_right))**2)/len(Y_right)\n",
    "    return Simi_left,Simi_right"
   ]
  },
  {
   "cell_type": "code",
   "execution_count": 409,
   "id": "389d27a9",
   "metadata": {},
   "outputs": [],
   "source": [
    "def Gain(x,y,start=0):\n",
    "    split = []\n",
    "    gain = np.zeros(len(x)-1)\n",
    "    for i in range(len(x)-1):\n",
    "        split.append(i)\n",
    "        simi_left,simi_right = count_Simi(split[i]+1,y)\n",
    "        gain[i] = simi_left + simi_right - Simi\n",
    "        if max(gain) <0:\n",
    "            return gain,0\n",
    "        best_split = np.argmax(gain)\n",
    "    return gain,best_split+start"
   ]
  },
  {
   "cell_type": "code",
   "execution_count": 410,
   "id": "c6402c98",
   "metadata": {},
   "outputs": [
    {
     "data": {
      "text/plain": [
       "(array([-15884.72063383, -15943.51803453, -15797.98149532, -15805.4422244 ,\n",
       "        -15405.21003021, -15238.14569414, -15200.08135976, -15320.5410275 ,\n",
       "        -15362.11480818, -15249.2463626 , -14882.7547237 , -15099.76025576,\n",
       "        -15895.86763744]),\n",
       " 0)"
      ]
     },
     "execution_count": 410,
     "metadata": {},
     "output_type": "execute_result"
    }
   ],
   "source": [
    "gain_2_left,split_2_left = Gain(df.iloc[0:14,0],df.iloc[0:14,1])\n",
    "gain_2_left,split_2_left\n"
   ]
  },
  {
   "cell_type": "markdown",
   "id": "e849a86b",
   "metadata": {},
   "source": [
    "**First Split**:"
   ]
  },
  {
   "cell_type": "code",
   "execution_count": 254,
   "id": "91456d44",
   "metadata": {},
   "outputs": [],
   "source": [
    "split_1 = (df.X[0] + df.X[1])/2"
   ]
  },
  {
   "cell_type": "code",
   "execution_count": 18,
   "id": "87cfaac0",
   "metadata": {},
   "outputs": [
    {
     "data": {
      "text/plain": [
       "[<matplotlib.lines.Line2D at 0x231a938a110>]"
      ]
     },
     "execution_count": 18,
     "metadata": {},
     "output_type": "execute_result"
    },
    {
     "data": {
      "image/png": "[encoded data removed]",
      "text/plain": [
       "<Figure size 640x480 with 1 Axes>"
      ]
     },
     "metadata": {},
     "output_type": "display_data"
    }
   ],
   "source": [
    "plt.scatter(X,y)\n",
    "plt.plot([0,10],[0.5,0.5],c='r')\n",
    "plt.plot([split_1,split_1],[-10,110],ls='--')\n"
   ]
  },
  {
   "cell_type": "code",
   "execution_count": 411,
   "id": "7f884abd",
   "metadata": {},
   "outputs": [
    {
     "data": {
      "text/plain": [
       "(15.662818273962921, 20547.086879831826)"
      ]
     },
     "execution_count": 411,
     "metadata": {},
     "output_type": "execute_result"
    }
   ],
   "source": [
    "simi_1_left,simi_1_right = count_Simi(1,df.y)\n",
    "simi_1_left,simi_1_right"
   ]
  },
  {
   "cell_type": "markdown",
   "id": "1fca3bed",
   "metadata": {},
   "source": [
    "=> Gain: simi_1_left + simi_1_right - simi_root = "
   ]
  },
  {
   "cell_type": "code",
   "execution_count": 256,
   "id": "befe350c",
   "metadata": {},
   "outputs": [
    {
     "data": {
      "text/plain": [
       "1905.3708864127111"
      ]
     },
     "execution_count": 256,
     "metadata": {},
     "output_type": "execute_result"
    }
   ],
   "source": [
    "gain_1 = simi_1_left + simi_1_right - Simi\n",
    "gain_1"
   ]
  },
  {
   "cell_type": "markdown",
   "id": "96579998",
   "metadata": {},
   "source": [
    "**Second split**:"
   ]
  },
  {
   "cell_type": "code",
   "execution_count": 257,
   "id": "9cc18ba6",
   "metadata": {},
   "outputs": [],
   "source": [
    "split_2 = (df.X[1] + df.X[2])/2"
   ]
  },
  {
   "cell_type": "code",
   "execution_count": 22,
   "id": "74d3af04",
   "metadata": {},
   "outputs": [
    {
     "data": {
      "text/plain": [
       "[<matplotlib.lines.Line2D at 0x231a940cdd0>]"
      ]
     },
     "execution_count": 22,
     "metadata": {},
     "output_type": "execute_result"
    },
    {
     "data": {
      "image/png": "[encoded data removed]",
      "text/plain": [
       "<Figure size 640x480 with 1 Axes>"
      ]
     },
     "metadata": {},
     "output_type": "display_data"
    }
   ],
   "source": [
    "plt.scatter(X,y)\n",
    "plt.plot([0,10],[0.5,0.5],c='r')\n",
    "plt.plot([split_2,split_2],[-10,110],ls='--')\n"
   ]
  },
  {
   "cell_type": "code",
   "execution_count": 258,
   "id": "9540127b",
   "metadata": {},
   "outputs": [
    {
     "data": {
      "text/plain": [
       "2402.2901061913617"
      ]
     },
     "execution_count": 258,
     "metadata": {},
     "output_type": "execute_result"
    }
   ],
   "source": [
    "simi_2_left,simi_2_right = count_Simi(2,df.y)\n",
    "\n",
    "gain_2 = simi_2_left + simi_2_right - Simi\n",
    "gain_2"
   ]
  },
  {
   "cell_type": "markdown",
   "id": "27e830a1",
   "metadata": {},
   "source": [
    "**Third split**:"
   ]
  },
  {
   "cell_type": "code",
   "execution_count": 259,
   "id": "3e3323bc",
   "metadata": {},
   "outputs": [
    {
     "data": {
      "text/plain": [
       "[<matplotlib.lines.Line2D at 0x231bdc6f410>]"
      ]
     },
     "execution_count": 259,
     "metadata": {},
     "output_type": "execute_result"
    },
    {
     "data": {
      "image/png": "[encoded data removed]",
      "text/plain": [
       "<Figure size 640x480 with 1 Axes>"
      ]
     },
     "metadata": {},
     "output_type": "display_data"
    }
   ],
   "source": [
    "split_3 = (df.X[2] + df.X[3])/2\n",
    "plt.scatter(X,y)\n",
    "plt.plot([0,10],[0.5,0.5],c='r')\n",
    "plt.plot([split_3,split_3],[-10,110],ls='--')\n"
   ]
  },
  {
   "cell_type": "code",
   "execution_count": 260,
   "id": "96b6ef6f",
   "metadata": {},
   "outputs": [
    {
     "data": {
      "text/plain": [
       "3403.744323221119"
      ]
     },
     "execution_count": 260,
     "metadata": {},
     "output_type": "execute_result"
    }
   ],
   "source": [
    "simi_3_left,simi_3_right = count_Simi(3,df.y)\n",
    "\n",
    "gain_3 = simi_3_left + simi_3_right - Simi\n",
    "gain_3"
   ]
  },
  {
   "cell_type": "code",
   "execution_count": 425,
   "id": "6d7df0a9",
   "metadata": {},
   "outputs": [
    {
     "data": {
      "text/plain": [
       "(array([ 1905.37088641,  2402.29010619,  3403.74432322,  4056.20190188,\n",
       "         5817.25314439,  7046.27198654,  8046.58437438,  8736.88516504,\n",
       "         9714.51897332, 11217.70376211, 13406.54995428, 14389.83606438,\n",
       "        14169.46510665, 15406.6188214 , 13775.7236786 , 12572.99059408,\n",
       "        10825.91942497,  9348.22331129,  4536.50349397]),\n",
       " 13)"
      ]
     },
     "execution_count": 425,
     "metadata": {},
     "output_type": "execute_result"
    }
   ],
   "source": [
    "gain,best_split = Gain(df.X,df.y)\n",
    "gain,best_split"
   ]
  },
  {
   "cell_type": "code",
   "execution_count": 413,
   "id": "ece0f3a2",
   "metadata": {},
   "outputs": [
    {
     "ename": "ValueError",
     "evalue": "x and y must be the same size",
     "output_type": "error",
     "traceback": [
      "\u001b[1;31m---------------------------------------------------------------------------\u001b[0m",
      "\u001b[1;31mValueError\u001b[0m                                Traceback (most recent call last)",
      "Cell \u001b[1;32mIn[413], line 2\u001b[0m\n\u001b[0;32m      1\u001b[0m split \u001b[38;5;241m=\u001b[39m (df\u001b[38;5;241m.\u001b[39mX[best_split] \u001b[38;5;241m+\u001b[39m df\u001b[38;5;241m.\u001b[39mX[best_split\u001b[38;5;241m+\u001b[39m\u001b[38;5;241m1\u001b[39m])\u001b[38;5;241m/\u001b[39m\u001b[38;5;241m2\u001b[39m\n\u001b[1;32m----> 2\u001b[0m plt\u001b[38;5;241m.\u001b[39mscatter(X,y,)\n\u001b[0;32m      3\u001b[0m plt\u001b[38;5;241m.\u001b[39mplot([\u001b[38;5;241m0\u001b[39m,\u001b[38;5;241m10\u001b[39m],[\u001b[38;5;241m0.5\u001b[39m,\u001b[38;5;241m0.5\u001b[39m],c\u001b[38;5;241m=\u001b[39m\u001b[38;5;124m'\u001b[39m\u001b[38;5;124mr\u001b[39m\u001b[38;5;124m'\u001b[39m)\n\u001b[0;32m      4\u001b[0m plt\u001b[38;5;241m.\u001b[39mplot([split,split],[\u001b[38;5;241m-\u001b[39m\u001b[38;5;241m10\u001b[39m,\u001b[38;5;241m110\u001b[39m],ls\u001b[38;5;241m=\u001b[39m\u001b[38;5;124m'\u001b[39m\u001b[38;5;124m--\u001b[39m\u001b[38;5;124m'\u001b[39m)\n",
      "File \u001b[1;32m~\\anaconda3\\Lib\\site-packages\\matplotlib\\pyplot.py:2862\u001b[0m, in \u001b[0;36mscatter\u001b[1;34m(x, y, s, c, marker, cmap, norm, vmin, vmax, alpha, linewidths, edgecolors, plotnonfinite, data, **kwargs)\u001b[0m\n\u001b[0;32m   2857\u001b[0m \u001b[38;5;129m@_copy_docstring_and_deprecators\u001b[39m(Axes\u001b[38;5;241m.\u001b[39mscatter)\n\u001b[0;32m   2858\u001b[0m \u001b[38;5;28;01mdef\u001b[39;00m \u001b[38;5;21mscatter\u001b[39m(\n\u001b[0;32m   2859\u001b[0m         x, y, s\u001b[38;5;241m=\u001b[39m\u001b[38;5;28;01mNone\u001b[39;00m, c\u001b[38;5;241m=\u001b[39m\u001b[38;5;28;01mNone\u001b[39;00m, marker\u001b[38;5;241m=\u001b[39m\u001b[38;5;28;01mNone\u001b[39;00m, cmap\u001b[38;5;241m=\u001b[39m\u001b[38;5;28;01mNone\u001b[39;00m, norm\u001b[38;5;241m=\u001b[39m\u001b[38;5;28;01mNone\u001b[39;00m,\n\u001b[0;32m   2860\u001b[0m         vmin\u001b[38;5;241m=\u001b[39m\u001b[38;5;28;01mNone\u001b[39;00m, vmax\u001b[38;5;241m=\u001b[39m\u001b[38;5;28;01mNone\u001b[39;00m, alpha\u001b[38;5;241m=\u001b[39m\u001b[38;5;28;01mNone\u001b[39;00m, linewidths\u001b[38;5;241m=\u001b[39m\u001b[38;5;28;01mNone\u001b[39;00m, \u001b[38;5;241m*\u001b[39m,\n\u001b[0;32m   2861\u001b[0m         edgecolors\u001b[38;5;241m=\u001b[39m\u001b[38;5;28;01mNone\u001b[39;00m, plotnonfinite\u001b[38;5;241m=\u001b[39m\u001b[38;5;28;01mFalse\u001b[39;00m, data\u001b[38;5;241m=\u001b[39m\u001b[38;5;28;01mNone\u001b[39;00m, \u001b[38;5;241m*\u001b[39m\u001b[38;5;241m*\u001b[39mkwargs):\n\u001b[1;32m-> 2862\u001b[0m     __ret \u001b[38;5;241m=\u001b[39m gca()\u001b[38;5;241m.\u001b[39mscatter(\n\u001b[0;32m   2863\u001b[0m         x, y, s\u001b[38;5;241m=\u001b[39ms, c\u001b[38;5;241m=\u001b[39mc, marker\u001b[38;5;241m=\u001b[39mmarker, cmap\u001b[38;5;241m=\u001b[39mcmap, norm\u001b[38;5;241m=\u001b[39mnorm,\n\u001b[0;32m   2864\u001b[0m         vmin\u001b[38;5;241m=\u001b[39mvmin, vmax\u001b[38;5;241m=\u001b[39mvmax, alpha\u001b[38;5;241m=\u001b[39malpha, linewidths\u001b[38;5;241m=\u001b[39mlinewidths,\n\u001b[0;32m   2865\u001b[0m         edgecolors\u001b[38;5;241m=\u001b[39medgecolors, plotnonfinite\u001b[38;5;241m=\u001b[39mplotnonfinite,\n\u001b[0;32m   2866\u001b[0m         \u001b[38;5;241m*\u001b[39m\u001b[38;5;241m*\u001b[39m({\u001b[38;5;124m\"\u001b[39m\u001b[38;5;124mdata\u001b[39m\u001b[38;5;124m\"\u001b[39m: data} \u001b[38;5;28;01mif\u001b[39;00m data \u001b[38;5;129;01mis\u001b[39;00m \u001b[38;5;129;01mnot\u001b[39;00m \u001b[38;5;28;01mNone\u001b[39;00m \u001b[38;5;28;01melse\u001b[39;00m {}), \u001b[38;5;241m*\u001b[39m\u001b[38;5;241m*\u001b[39mkwargs)\n\u001b[0;32m   2867\u001b[0m     sci(__ret)\n\u001b[0;32m   2868\u001b[0m     \u001b[38;5;28;01mreturn\u001b[39;00m __ret\n",
      "File \u001b[1;32m~\\anaconda3\\Lib\\site-packages\\matplotlib\\__init__.py:1442\u001b[0m, in \u001b[0;36m_preprocess_data.<locals>.inner\u001b[1;34m(ax, data, *args, **kwargs)\u001b[0m\n\u001b[0;32m   1439\u001b[0m \u001b[38;5;129m@functools\u001b[39m\u001b[38;5;241m.\u001b[39mwraps(func)\n\u001b[0;32m   1440\u001b[0m \u001b[38;5;28;01mdef\u001b[39;00m \u001b[38;5;21minner\u001b[39m(ax, \u001b[38;5;241m*\u001b[39margs, data\u001b[38;5;241m=\u001b[39m\u001b[38;5;28;01mNone\u001b[39;00m, \u001b[38;5;241m*\u001b[39m\u001b[38;5;241m*\u001b[39mkwargs):\n\u001b[0;32m   1441\u001b[0m     \u001b[38;5;28;01mif\u001b[39;00m data \u001b[38;5;129;01mis\u001b[39;00m \u001b[38;5;28;01mNone\u001b[39;00m:\n\u001b[1;32m-> 1442\u001b[0m         \u001b[38;5;28;01mreturn\u001b[39;00m func(ax, \u001b[38;5;241m*\u001b[39m\u001b[38;5;28mmap\u001b[39m(sanitize_sequence, args), \u001b[38;5;241m*\u001b[39m\u001b[38;5;241m*\u001b[39mkwargs)\n\u001b[0;32m   1444\u001b[0m     bound \u001b[38;5;241m=\u001b[39m new_sig\u001b[38;5;241m.\u001b[39mbind(ax, \u001b[38;5;241m*\u001b[39margs, \u001b[38;5;241m*\u001b[39m\u001b[38;5;241m*\u001b[39mkwargs)\n\u001b[0;32m   1445\u001b[0m     auto_label \u001b[38;5;241m=\u001b[39m (bound\u001b[38;5;241m.\u001b[39marguments\u001b[38;5;241m.\u001b[39mget(label_namer)\n\u001b[0;32m   1446\u001b[0m                   \u001b[38;5;129;01mor\u001b[39;00m bound\u001b[38;5;241m.\u001b[39mkwargs\u001b[38;5;241m.\u001b[39mget(label_namer))\n",
      "File \u001b[1;32m~\\anaconda3\\Lib\\site-packages\\matplotlib\\axes\\_axes.py:4584\u001b[0m, in \u001b[0;36mAxes.scatter\u001b[1;34m(self, x, y, s, c, marker, cmap, norm, vmin, vmax, alpha, linewidths, edgecolors, plotnonfinite, **kwargs)\u001b[0m\n\u001b[0;32m   4582\u001b[0m y \u001b[38;5;241m=\u001b[39m np\u001b[38;5;241m.\u001b[39mma\u001b[38;5;241m.\u001b[39mravel(y)\n\u001b[0;32m   4583\u001b[0m \u001b[38;5;28;01mif\u001b[39;00m x\u001b[38;5;241m.\u001b[39msize \u001b[38;5;241m!=\u001b[39m y\u001b[38;5;241m.\u001b[39msize:\n\u001b[1;32m-> 4584\u001b[0m     \u001b[38;5;28;01mraise\u001b[39;00m \u001b[38;5;167;01mValueError\u001b[39;00m(\u001b[38;5;124m\"\u001b[39m\u001b[38;5;124mx and y must be the same size\u001b[39m\u001b[38;5;124m\"\u001b[39m)\n\u001b[0;32m   4586\u001b[0m \u001b[38;5;28;01mif\u001b[39;00m s \u001b[38;5;129;01mis\u001b[39;00m \u001b[38;5;28;01mNone\u001b[39;00m:\n\u001b[0;32m   4587\u001b[0m     s \u001b[38;5;241m=\u001b[39m (\u001b[38;5;241m20\u001b[39m \u001b[38;5;28;01mif\u001b[39;00m mpl\u001b[38;5;241m.\u001b[39mrcParams[\u001b[38;5;124m'\u001b[39m\u001b[38;5;124m_internal.classic_mode\u001b[39m\u001b[38;5;124m'\u001b[39m] \u001b[38;5;28;01melse\u001b[39;00m\n\u001b[0;32m   4588\u001b[0m          mpl\u001b[38;5;241m.\u001b[39mrcParams[\u001b[38;5;124m'\u001b[39m\u001b[38;5;124mlines.markersize\u001b[39m\u001b[38;5;124m'\u001b[39m] \u001b[38;5;241m*\u001b[39m\u001b[38;5;241m*\u001b[39m \u001b[38;5;241m2.0\u001b[39m)\n",
      "\u001b[1;31mValueError\u001b[0m: x and y must be the same size"
     ]
    },
    {
     "data": {
      "image/png": "[encoded data removed]",
      "text/plain": [
       "<Figure size 640x480 with 1 Axes>"
      ]
     },
     "metadata": {},
     "output_type": "display_data"
    }
   ],
   "source": [
    "split = (df.X[best_split] + df.X[best_split+1])/2\n",
    "plt.scatter(X,y)\n",
    "plt.plot([0,10],[0.5,0.5],c='r')\n",
    "plt.plot([split,split],[-10,110],ls='--')"
   ]
  },
  {
   "cell_type": "code",
   "execution_count": 414,
   "id": "1903b301",
   "metadata": {},
   "outputs": [
    {
     "data": {
      "text/plain": [
       "(array([-15884.72063383, -15943.51803453, -15797.98149532, -15805.4422244 ,\n",
       "        -15405.21003021, -15238.14569414, -15200.08135976, -15320.5410275 ,\n",
       "        -15362.11480818, -15249.2463626 , -14882.7547237 , -15099.76025576,\n",
       "        -15895.86763744]),\n",
       " 0)"
      ]
     },
     "execution_count": 414,
     "metadata": {},
     "output_type": "execute_result"
    }
   ],
   "source": [
    "gain_2_left,split_2_left = Gain(df.iloc[0:14,0],df.iloc[0:14,1])\n",
    "gain_2_left,split_2_left\n"
   ]
  },
  {
   "cell_type": "code",
   "execution_count": 415,
   "id": "c926ac87",
   "metadata": {},
   "outputs": [],
   "source": [
    "gain_2_right,split_2_right = Gain(df.iloc[14:,0],df.iloc[14:,1],14)"
   ]
  },
  {
   "cell_type": "code",
   "execution_count": 416,
   "id": "8e70e474",
   "metadata": {},
   "outputs": [
    {
     "data": {
      "text/plain": [
       "(array([13202.9074096 , 13602.85792939, 13852.1113919 , 14293.9319965 ,\n",
       "        13408.27229062]),\n",
       " 17)"
      ]
     },
     "execution_count": 416,
     "metadata": {},
     "output_type": "execute_result"
    }
   ],
   "source": [
    "gain_2_right,split_2_right"
   ]
  },
  {
   "cell_type": "code",
   "execution_count": 270,
   "id": "f0265a25",
   "metadata": {},
   "outputs": [
    {
     "data": {
      "text/plain": [
       "[<matplotlib.lines.Line2D at 0x231bdd2d110>]"
      ]
     },
     "execution_count": 270,
     "metadata": {},
     "output_type": "execute_result"
    },
    {
     "data": {
      "image/png": "[encoded data removed]",
      "text/plain": [
       "<Figure size 640x480 with 1 Axes>"
      ]
     },
     "metadata": {},
     "output_type": "display_data"
    }
   ],
   "source": [
    "slice_1 = (df.X[best_split] + df.X[best_split+1])/2\n",
    "slice_2_right = (df.X[split_2_right] + df.X[split_2_right+1])/2\n",
    "slice_2_left = (df.X[split_2_left] + df.X[split_2_left+1])/2\n",
    "\n",
    "plt.scatter(X,y,)\n",
    "plt.plot([0,10],[0.5,0.5],c='r')\n",
    "plt.plot([slice_1,slice_1],[-10,110],ls='--')\n",
    "plt.plot([slice_2_right,slice_2_right],[-10,110],ls='--',c='g')\n",
    "plt.plot([slice_2_left,slice_2_left],[-10,110],ls='--',c='g')"
   ]
  },
  {
   "cell_type": "markdown",
   "id": "06f22388",
   "metadata": {},
   "source": [
    "**SPLIT**"
   ]
  },
  {
   "cell_type": "markdown",
   "id": "fc5ffbe7",
   "metadata": {},
   "source": [
    "<img src='https://scontent-hkg4-2.xx.fbcdn.net/v/t1.15752-9/387477733_1521582425267589_1976177021321059686_n.png?_nc_cat=109&ccb=1-7&_nc_sid=8cd0a2&_nc_ohc=H3wiSAVRkUIAX8vZq3p&_nc_ht=scontent-hkg4-2.xx&oh=03_AdRScfJeP4M8_wGyGtuJKxrhF1_pjJG5YNJ8TLEEOC9v-g&oe=658CCA56' style=\"width:1000px;\"/>"
   ]
  },
  {
   "cell_type": "markdown",
   "id": "271f3495",
   "metadata": {},
   "source": [
    "**Out put**"
   ]
  },
  {
   "cell_type": "markdown",
   "id": "d8017285",
   "metadata": {},
   "source": [
    "<font size = 5> Output Value = $ \\frac{Sum_{of}Residuals}{Number_{of}Residuals + \\lambda}$"
   ]
  },
  {
   "cell_type": "code",
   "execution_count": 417,
   "id": "369f30ea",
   "metadata": {},
   "outputs": [
    {
     "data": {
      "text/plain": [
       "7.668122900580963"
      ]
     },
     "execution_count": 417,
     "metadata": {},
     "output_type": "execute_result"
    }
   ],
   "source": [
    "r_1 = df.iloc[:11,1] - 0.5\n",
    "Output_1 = np.sum(r_1)/(len(r_1))\n",
    "Output_1"
   ]
  },
  {
   "cell_type": "code",
   "execution_count": 418,
   "id": "847eff55",
   "metadata": {},
   "outputs": [
    {
     "data": {
      "text/plain": [
       "31.33668501945104"
      ]
     },
     "execution_count": 418,
     "metadata": {},
     "output_type": "execute_result"
    }
   ],
   "source": [
    "r_2 = df.iloc[11:14,1] - 0.5\n",
    "Output_2 = np.sum(r_2)/(len(r_2))\n",
    "Output_2"
   ]
  },
  {
   "cell_type": "code",
   "execution_count": 419,
   "id": "0f58de1b",
   "metadata": {},
   "outputs": [
    {
     "data": {
      "text/plain": [
       "61.51009430019093"
      ]
     },
     "execution_count": 419,
     "metadata": {},
     "output_type": "execute_result"
    }
   ],
   "source": [
    "r_3 = df.iloc[14:18,1] - 0.5\n",
    "Output_3 = np.sum(r_3)/(len(r_3))\n",
    "Output_3"
   ]
  },
  {
   "cell_type": "code",
   "execution_count": 420,
   "id": "dbe31177",
   "metadata": {},
   "outputs": [
    {
     "data": {
      "text/plain": [
       "93.22914068666947"
      ]
     },
     "execution_count": 420,
     "metadata": {},
     "output_type": "execute_result"
    }
   ],
   "source": [
    "r_4 = df.iloc[18:,1] - 0.5\n",
    "Output_4 = np.sum(r_4)/(len(r_4))\n",
    "Output_4"
   ]
  },
  {
   "cell_type": "markdown",
   "id": "9f6c1450",
   "metadata": {},
   "source": [
    "**Output residuals**"
   ]
  },
  {
   "cell_type": "markdown",
   "id": "ea053b10",
   "metadata": {},
   "source": [
    "<img src='https://scontent-hkg4-1.xx.fbcdn.net/v/t1.15752-9/401230483_879573893827852_8522923867221723520_n.png?_nc_cat=102&ccb=1-7&_nc_sid=8cd0a2&_nc_ohc=ROnrgrq7BjoAX9v28D7&_nc_ht=scontent-hkg4-1.xx&oh=03_AdQcTYE75Y42w3P3MR9itKXhyrtP7cPP1H0qTPoGfEPFrQ&oe=658CBACB' style=\"width:800px;\"/> "
   ]
  },
  {
   "cell_type": "markdown",
   "id": "46f4133f",
   "metadata": {},
   "source": [
    "**Predict line**"
   ]
  },
  {
   "cell_type": "markdown",
   "id": "6d57067f",
   "metadata": {},
   "source": [
    "<font size = 5> Pred = Old Pred + Learning rate*Output"
   ]
  },
  {
   "cell_type": "code",
   "execution_count": 344,
   "id": "b551c150",
   "metadata": {},
   "outputs": [],
   "source": [
    "# learning rate default = 0.3\n",
    "pred_1 = 0.5 + 0.3*Output_1\n",
    "pred_2 = 0.5 + 0.3*Output_2\n",
    "pred_3 = 0.5 + 0.3*Output_3\n",
    "pred_4 = 0.5 + 0.3*Output_4"
   ]
  },
  {
   "cell_type": "code",
   "execution_count": 286,
   "id": "53df6c31",
   "metadata": {},
   "outputs": [
    {
     "data": {
      "text/plain": [
       "<matplotlib.legend.Legend at 0x231bc8382d0>"
      ]
     },
     "execution_count": 286,
     "metadata": {},
     "output_type": "execute_result"
    },
    {
     "data": {
      "image/png": "[encoded data removed]",
      "text/plain": [
       "<Figure size 640x480 with 1 Axes>"
      ]
     },
     "metadata": {},
     "output_type": "display_data"
    }
   ],
   "source": [
    "plt.scatter(X,y,)\n",
    "\n",
    "plt.plot([0,10],[0.5,0.5],c='r')\n",
    "\n",
    "plt.plot([0,(df.X[10]+df.X[11])/2],[pred_1,pred_1],c='g')\n",
    "plt.vlines(df[df.X <5.24]['X'], pred_1, df[df.X <5.24]['y'], colors='green',alpha=0.5)\n",
    "\n",
    "plt.plot([(df.X[10]+df.X[11])/2,(df.X[13]+df.X[14])/2],[pred_2,pred_2],c='black')\n",
    "plt.vlines(df.iloc[11:14,0], pred_2, df.iloc[11:14,1], colors='black',alpha=0.5)\n",
    "\n",
    "plt.plot([(df.X[13]+df.X[14])/2,(df.X[17]+df.X[18])/2],[pred_3,pred_3],c='orange')\n",
    "plt.vlines(df.X[14:18], pred_3, df.y[14:18], colors='orange',alpha=0.5)\n",
    "\n",
    "\n",
    "plt.plot([(df.X[17]+df.X[18])/2,10],[pred_4,pred_4],c='purple')\n",
    "plt.vlines(df.iloc[18:,0], pred_4, df.iloc[18:,1], colors='purple',alpha=0.5)\n",
    "\n",
    "plt.legend(labels=['Point','$r_{default=0.5}$','$r_1$','','$r_2$','','$r_3$','','$r_4$',''])\n"
   ]
  },
  {
   "cell_type": "code",
   "execution_count": 354,
   "id": "1af272f9",
   "metadata": {},
   "outputs": [
    {
     "data": {
      "text/plain": [
       "628.161257517791"
      ]
     },
     "execution_count": 354,
     "metadata": {},
     "output_type": "execute_result"
    }
   ],
   "source": [
    "np.sum(abs(r))"
   ]
  },
  {
   "cell_type": "code",
   "execution_count": 357,
   "id": "3544d5d7",
   "metadata": {},
   "outputs": [
    {
     "data": {
      "text/plain": [
       "432.6590122246646"
      ]
     },
     "execution_count": 357,
     "metadata": {},
     "output_type": "execute_result"
    }
   ],
   "source": [
    "r1 = np.sum(abs(pred_1 - df[df.X <5.25]['y']))\n",
    "r2 = np.sum(abs(pred_2 - df.iloc[12:14,1]))\n",
    "r3 = np.sum(abs(pred_3 - df.y[14]))\n",
    "r4 = np.sum(abs(pred_4 - df.iloc[15:,1]))\n",
    "r1+r2+r3+r4"
   ]
  },
  {
   "cell_type": "code",
   "execution_count": 356,
   "id": "e18fd6b0",
   "metadata": {},
   "outputs": [
    {
     "data": {
      "text/plain": [
       "432.6590122246646"
      ]
     },
     "execution_count": 356,
     "metadata": {},
     "output_type": "execute_result"
    }
   ],
   "source": [
    "r1+r2+r3+r4"
   ]
  },
  {
   "cell_type": "code",
   "execution_count": 358,
   "id": "ce6f4732",
   "metadata": {},
   "outputs": [],
   "source": [
    "df_pred = pd.DataFrame(df)\n",
    "df_pred['r'] = df.y - 0.5\n",
    "# df_pred['pred_custom'] =df[df.X <5.25]['y'] - pred_1\n",
    "# df_pred.iloc[12:14,3] = df.iloc[12:14,1] - pred_2\n",
    "# df_pred.pred_custom[14] = df.y[14] - pred_3 \n",
    "# df_pred.iloc[15:,3] = df.iloc[15:,1] - pred_4\n",
    "\n",
    "df_pred['pred_custom'] =pred_1\n",
    "df_pred.iloc[11:14,3] =  pred_2\n",
    "df_pred.iloc[14:18,3] =  pred_3 \n",
    "df_pred.iloc[18:,3] =  pred_4"
   ]
  },
  {
   "cell_type": "code",
   "execution_count": 346,
   "id": "27119673",
   "metadata": {},
   "outputs": [
    {
     "name": "stdout",
     "output_type": "stream",
     "text": [
      "RMSE: 30.319712782935515 \n",
      "R2 score: -0.013295497775789977\n"
     ]
    }
   ],
   "source": [
    "print('RMSE:' ,np.sqrt(mean_squared_error(df.y, df_pred.pred_custom)),\n",
    "      '\\nR2 score:',r2_score(df.y, df_pred.pred_custom))"
   ]
  },
  {
   "cell_type": "code",
   "execution_count": 422,
   "id": "f634073f",
   "metadata": {},
   "outputs": [
    {
     "name": "stdout",
     "output_type": "stream",
     "text": [
      "RMSE: 32.66158370038846 \n",
      "R2 score: -0.17587301871516403\n"
     ]
    }
   ],
   "source": [
    "model = xgb.XGBRegressor(objective ='reg:squarederror',max_depth = 2,max_leaves=2,n_estimators = 1)\n",
    "model.fit(df.X,df.y)\n",
    "y_pred = model.predict(df.X)\n",
    "print('RMSE:' ,np.sqrt(mean_squared_error(df.y, y_pred)),\n",
    "      '\\nR2 score:',r2_score(df.y, y_pred))"
   ]
  },
  {
   "cell_type": "code",
   "execution_count": 423,
   "id": "80fa1320",
   "metadata": {},
   "outputs": [],
   "source": [
    "df_pred['pred_lib'] = y_pred"
   ]
  },
  {
   "cell_type": "code",
   "execution_count": 424,
   "id": "a7fa4fdb",
   "metadata": {},
   "outputs": [
    {
     "data": {
      "text/html": [
       "<div>\n",
       "<style scoped>\n",
       "    .dataframe tbody tr th:only-of-type {\n",
       "        vertical-align: middle;\n",
       "    }\n",
       "\n",
       "    .dataframe tbody tr th {\n",
       "        vertical-align: top;\n",
       "    }\n",
       "\n",
       "    .dataframe thead th {\n",
       "        text-align: right;\n",
       "    }\n",
       "</style>\n",
       "<table border=\"1\" class=\"dataframe\">\n",
       "  <thead>\n",
       "    <tr style=\"text-align: right;\">\n",
       "      <th></th>\n",
       "      <th>X</th>\n",
       "      <th>y</th>\n",
       "      <th>r</th>\n",
       "      <th>pred_custom</th>\n",
       "      <th>pred_lib</th>\n",
       "    </tr>\n",
       "  </thead>\n",
       "  <tbody>\n",
       "    <tr>\n",
       "      <th>0</th>\n",
       "      <td>0.205845</td>\n",
       "      <td>-3.957628</td>\n",
       "      <td>-4.457628</td>\n",
       "      <td>2.800437</td>\n",
       "      <td>1.310733</td>\n",
       "    </tr>\n",
       "    <tr>\n",
       "      <th>1</th>\n",
       "      <td>0.580836</td>\n",
       "      <td>9.337371</td>\n",
       "      <td>8.837371</td>\n",
       "      <td>2.800437</td>\n",
       "      <td>1.310733</td>\n",
       "    </tr>\n",
       "    <tr>\n",
       "      <th>2</th>\n",
       "      <td>1.559945</td>\n",
       "      <td>3.433429</td>\n",
       "      <td>2.933429</td>\n",
       "      <td>2.800437</td>\n",
       "      <td>1.310733</td>\n",
       "    </tr>\n",
       "    <tr>\n",
       "      <th>3</th>\n",
       "      <td>1.560186</td>\n",
       "      <td>10.434182</td>\n",
       "      <td>9.934182</td>\n",
       "      <td>2.800437</td>\n",
       "      <td>1.310733</td>\n",
       "    </tr>\n",
       "    <tr>\n",
       "      <th>4</th>\n",
       "      <td>1.818250</td>\n",
       "      <td>-3.693968</td>\n",
       "      <td>-4.193968</td>\n",
       "      <td>2.800437</td>\n",
       "      <td>1.310733</td>\n",
       "    </tr>\n",
       "    <tr>\n",
       "      <th>5</th>\n",
       "      <td>1.834045</td>\n",
       "      <td>6.363721</td>\n",
       "      <td>5.863721</td>\n",
       "      <td>2.800437</td>\n",
       "      <td>1.310733</td>\n",
       "    </tr>\n",
       "    <tr>\n",
       "      <th>6</th>\n",
       "      <td>2.123391</td>\n",
       "      <td>11.508790</td>\n",
       "      <td>11.008790</td>\n",
       "      <td>2.800437</td>\n",
       "      <td>4.377251</td>\n",
       "    </tr>\n",
       "    <tr>\n",
       "      <th>7</th>\n",
       "      <td>2.912291</td>\n",
       "      <td>17.481441</td>\n",
       "      <td>16.981441</td>\n",
       "      <td>2.800437</td>\n",
       "      <td>4.377251</td>\n",
       "    </tr>\n",
       "    <tr>\n",
       "      <th>8</th>\n",
       "      <td>3.042422</td>\n",
       "      <td>16.256334</td>\n",
       "      <td>15.756334</td>\n",
       "      <td>2.800437</td>\n",
       "      <td>4.377251</td>\n",
       "    </tr>\n",
       "    <tr>\n",
       "      <th>9</th>\n",
       "      <td>3.745401</td>\n",
       "      <td>13.028030</td>\n",
       "      <td>12.528030</td>\n",
       "      <td>2.800437</td>\n",
       "      <td>4.377251</td>\n",
       "    </tr>\n",
       "    <tr>\n",
       "      <th>10</th>\n",
       "      <td>4.319450</td>\n",
       "      <td>9.657650</td>\n",
       "      <td>9.157650</td>\n",
       "      <td>2.800437</td>\n",
       "      <td>4.377251</td>\n",
       "    </tr>\n",
       "    <tr>\n",
       "      <th>11</th>\n",
       "      <td>5.247564</td>\n",
       "      <td>25.536931</td>\n",
       "      <td>25.036931</td>\n",
       "      <td>9.901006</td>\n",
       "      <td>4.377251</td>\n",
       "    </tr>\n",
       "    <tr>\n",
       "      <th>12</th>\n",
       "      <td>5.986585</td>\n",
       "      <td>39.839198</td>\n",
       "      <td>39.339198</td>\n",
       "      <td>9.901006</td>\n",
       "      <td>7.397313</td>\n",
       "    </tr>\n",
       "    <tr>\n",
       "      <th>13</th>\n",
       "      <td>6.011150</td>\n",
       "      <td>30.133926</td>\n",
       "      <td>29.633926</td>\n",
       "      <td>9.901006</td>\n",
       "      <td>7.397313</td>\n",
       "    </tr>\n",
       "    <tr>\n",
       "      <th>14</th>\n",
       "      <td>7.080726</td>\n",
       "      <td>58.136678</td>\n",
       "      <td>57.636678</td>\n",
       "      <td>18.953028</td>\n",
       "      <td>19.035658</td>\n",
       "    </tr>\n",
       "    <tr>\n",
       "      <th>15</th>\n",
       "      <td>7.319939</td>\n",
       "      <td>57.581513</td>\n",
       "      <td>57.081513</td>\n",
       "      <td>18.953028</td>\n",
       "      <td>19.035658</td>\n",
       "    </tr>\n",
       "    <tr>\n",
       "      <th>16</th>\n",
       "      <td>8.324426</td>\n",
       "      <td>65.296075</td>\n",
       "      <td>64.796075</td>\n",
       "      <td>18.953028</td>\n",
       "      <td>19.035658</td>\n",
       "    </tr>\n",
       "    <tr>\n",
       "      <th>17</th>\n",
       "      <td>8.661761</td>\n",
       "      <td>67.026112</td>\n",
       "      <td>66.526112</td>\n",
       "      <td>18.953028</td>\n",
       "      <td>19.035658</td>\n",
       "    </tr>\n",
       "    <tr>\n",
       "      <th>18</th>\n",
       "      <td>9.507143</td>\n",
       "      <td>95.385769</td>\n",
       "      <td>94.885769</td>\n",
       "      <td>28.468742</td>\n",
       "      <td>19.035658</td>\n",
       "    </tr>\n",
       "    <tr>\n",
       "      <th>19</th>\n",
       "      <td>9.699099</td>\n",
       "      <td>92.072512</td>\n",
       "      <td>91.572512</td>\n",
       "      <td>28.468742</td>\n",
       "      <td>19.035658</td>\n",
       "    </tr>\n",
       "  </tbody>\n",
       "</table>\n",
       "</div>"
      ],
      "text/plain": [
       "           X          y          r  pred_custom   pred_lib\n",
       "0   0.205845  -3.957628  -4.457628     2.800437   1.310733\n",
       "1   0.580836   9.337371   8.837371     2.800437   1.310733\n",
       "2   1.559945   3.433429   2.933429     2.800437   1.310733\n",
       "3   1.560186  10.434182   9.934182     2.800437   1.310733\n",
       "4   1.818250  -3.693968  -4.193968     2.800437   1.310733\n",
       "5   1.834045   6.363721   5.863721     2.800437   1.310733\n",
       "6   2.123391  11.508790  11.008790     2.800437   4.377251\n",
       "7   2.912291  17.481441  16.981441     2.800437   4.377251\n",
       "8   3.042422  16.256334  15.756334     2.800437   4.377251\n",
       "9   3.745401  13.028030  12.528030     2.800437   4.377251\n",
       "10  4.319450   9.657650   9.157650     2.800437   4.377251\n",
       "11  5.247564  25.536931  25.036931     9.901006   4.377251\n",
       "12  5.986585  39.839198  39.339198     9.901006   7.397313\n",
       "13  6.011150  30.133926  29.633926     9.901006   7.397313\n",
       "14  7.080726  58.136678  57.636678    18.953028  19.035658\n",
       "15  7.319939  57.581513  57.081513    18.953028  19.035658\n",
       "16  8.324426  65.296075  64.796075    18.953028  19.035658\n",
       "17  8.661761  67.026112  66.526112    18.953028  19.035658\n",
       "18  9.507143  95.385769  94.885769    28.468742  19.035658\n",
       "19  9.699099  92.072512  91.572512    28.468742  19.035658"
      ]
     },
     "execution_count": 424,
     "metadata": {},
     "output_type": "execute_result"
    }
   ],
   "source": [
    "df_pred"
   ]
  },
  {
   "cell_type": "code",
   "execution_count": 426,
   "id": "1a905d7b",
   "metadata": {},
   "outputs": [
    {
     "data": {
      "text/plain": [
       "'XGBRegressor'"
      ]
     },
     "execution_count": 426,
     "metadata": {},
     "output_type": "execute_result"
    }
   ],
   "source": [
    "model.__class__.__name__"
   ]
  },
  {
   "cell_type": "code",
   "execution_count": null,
   "id": "506c4fb4",
   "metadata": {},
   "outputs": [],
   "source": []
  }
 ],
 "metadata": {
  "kernelspec": {
   "display_name": "Python 3 (ipykernel)",
   "language": "python",
   "name": "python3"
  },
  "language_info": {
   "codemirror_mode": {
    "name": "ipython",
    "version": 3
   },
   "file_extension": ".py",
   "mimetype": "text/x-python",
   "name": "python",
   "nbconvert_exporter": "python",
   "pygments_lexer": "ipython3",
   "version": "3.11.4"
  },
  "toc": {
   "base_numbering": 1,
   "nav_menu": {},
   "number_sections": true,
   "sideBar": true,
   "skip_h1_title": false,
   "title_cell": "Table of Contents",
   "title_sidebar": "Contents",
   "toc_cell": false,
   "toc_position": {},
   "toc_section_display": true,
   "toc_window_display": false
  },
  "varInspector": {
   "cols": {
    "lenName": 16,
    "lenType": 16,
    "lenVar": 40
   },
   "kernels_config": {
    "python": {
     "delete_cmd_postfix": "",
     "delete_cmd_prefix": "del ",
     "library": "var_list.py",
     "varRefreshCmd": "print(var_dic_list())"
    },
    "r": {
     "delete_cmd_postfix": ") ",
     "delete_cmd_prefix": "rm(",
     "library": "var_list.r",
     "varRefreshCmd": "cat(var_dic_list()) "
    }
   },
   "types_to_exclude": [
    "module",
    "function",
    "builtin_function_or_method",
    "instance",
    "_Feature"
   ],
   "window_display": false
  }
 },
 "nbformat": 4,
 "nbformat_minor": 5
}
